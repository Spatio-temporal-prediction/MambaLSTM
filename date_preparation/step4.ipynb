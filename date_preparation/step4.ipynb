{
 "cells": [
  {
   "cell_type": "code",
   "execution_count": 2,
   "metadata": {},
   "outputs": [],
   "source": [
    "import pandas as pd\n",
    "def risk_label(file):\n",
    "    def calculate_risk_label(risk_value):\n",
    "        if risk_value == 0:\n",
    "            return 0\n",
    "        else:\n",
    "            return 1\n",
    "    df = pd.read_csv(file)\n",
    "    df['risk_label'] = df['risk_value'].apply(calculate_risk_label)\n",
    "    # 将risk_label列移至risk_value列前一列\n",
    "    columns = list(df.columns)\n",
    "    risk_value_index = columns.index('risk_value')\n",
    "    columns.insert(risk_value_index, columns.pop())\n",
    "    df = df[columns]\n",
    "\n",
    "    # 保存更新后的DataFrame到新的CSV文件\n",
    "    df.to_csv(file, index=False)"
   ]
  },
  {
   "cell_type": "code",
   "execution_count": 3,
   "metadata": {},
   "outputs": [],
   "source": [
    "# risk_label('save/grid_data_c_2.csv')\n",
    "risk_label('save/grid_data_f_2.csv')\n",
    "# risk_label('save/grid_data_uf_2.csv')\n"
   ]
  },
  {
   "cell_type": "code",
   "execution_count": 4,
   "metadata": {},
   "outputs": [
    {
     "ename": "ParserError",
     "evalue": "Error tokenizing data. C error: Calling read(nbytes) on source failed. Try engine='python'.",
     "output_type": "error",
     "traceback": [
      "\u001b[0;31m---------------------------------------------------------------------------\u001b[0m",
      "\u001b[0;31mParserError\u001b[0m                               Traceback (most recent call last)",
      "Cell \u001b[0;32mIn[4], line 1\u001b[0m\n\u001b[0;32m----> 1\u001b[0m df \u001b[38;5;241m=\u001b[39m \u001b[43mpd\u001b[49m\u001b[38;5;241;43m.\u001b[39;49m\u001b[43mread_csv\u001b[49m\u001b[43m(\u001b[49m\u001b[38;5;124;43m'\u001b[39;49m\u001b[38;5;124;43msave/grid_data_f_2.csv\u001b[39;49m\u001b[38;5;124;43m'\u001b[39;49m\u001b[43m)\u001b[49m\n\u001b[1;32m      2\u001b[0m \u001b[38;5;28mprint\u001b[39m(df\u001b[38;5;241m.\u001b[39mdtypes)\n",
      "File \u001b[0;32m~/miniconda3/envs/my/lib/python3.10/site-packages/pandas/io/parsers/readers.py:1026\u001b[0m, in \u001b[0;36mread_csv\u001b[0;34m(filepath_or_buffer, sep, delimiter, header, names, index_col, usecols, dtype, engine, converters, true_values, false_values, skipinitialspace, skiprows, skipfooter, nrows, na_values, keep_default_na, na_filter, verbose, skip_blank_lines, parse_dates, infer_datetime_format, keep_date_col, date_parser, date_format, dayfirst, cache_dates, iterator, chunksize, compression, thousands, decimal, lineterminator, quotechar, quoting, doublequote, escapechar, comment, encoding, encoding_errors, dialect, on_bad_lines, delim_whitespace, low_memory, memory_map, float_precision, storage_options, dtype_backend)\u001b[0m\n\u001b[1;32m   1013\u001b[0m kwds_defaults \u001b[38;5;241m=\u001b[39m _refine_defaults_read(\n\u001b[1;32m   1014\u001b[0m     dialect,\n\u001b[1;32m   1015\u001b[0m     delimiter,\n\u001b[0;32m   (...)\u001b[0m\n\u001b[1;32m   1022\u001b[0m     dtype_backend\u001b[38;5;241m=\u001b[39mdtype_backend,\n\u001b[1;32m   1023\u001b[0m )\n\u001b[1;32m   1024\u001b[0m kwds\u001b[38;5;241m.\u001b[39mupdate(kwds_defaults)\n\u001b[0;32m-> 1026\u001b[0m \u001b[38;5;28;01mreturn\u001b[39;00m \u001b[43m_read\u001b[49m\u001b[43m(\u001b[49m\u001b[43mfilepath_or_buffer\u001b[49m\u001b[43m,\u001b[49m\u001b[43m \u001b[49m\u001b[43mkwds\u001b[49m\u001b[43m)\u001b[49m\n",
      "File \u001b[0;32m~/miniconda3/envs/my/lib/python3.10/site-packages/pandas/io/parsers/readers.py:626\u001b[0m, in \u001b[0;36m_read\u001b[0;34m(filepath_or_buffer, kwds)\u001b[0m\n\u001b[1;32m    623\u001b[0m     \u001b[38;5;28;01mreturn\u001b[39;00m parser\n\u001b[1;32m    625\u001b[0m \u001b[38;5;28;01mwith\u001b[39;00m parser:\n\u001b[0;32m--> 626\u001b[0m     \u001b[38;5;28;01mreturn\u001b[39;00m \u001b[43mparser\u001b[49m\u001b[38;5;241;43m.\u001b[39;49m\u001b[43mread\u001b[49m\u001b[43m(\u001b[49m\u001b[43mnrows\u001b[49m\u001b[43m)\u001b[49m\n",
      "File \u001b[0;32m~/miniconda3/envs/my/lib/python3.10/site-packages/pandas/io/parsers/readers.py:1923\u001b[0m, in \u001b[0;36mTextFileReader.read\u001b[0;34m(self, nrows)\u001b[0m\n\u001b[1;32m   1916\u001b[0m nrows \u001b[38;5;241m=\u001b[39m validate_integer(\u001b[38;5;124m\"\u001b[39m\u001b[38;5;124mnrows\u001b[39m\u001b[38;5;124m\"\u001b[39m, nrows)\n\u001b[1;32m   1917\u001b[0m \u001b[38;5;28;01mtry\u001b[39;00m:\n\u001b[1;32m   1918\u001b[0m     \u001b[38;5;66;03m# error: \"ParserBase\" has no attribute \"read\"\u001b[39;00m\n\u001b[1;32m   1919\u001b[0m     (\n\u001b[1;32m   1920\u001b[0m         index,\n\u001b[1;32m   1921\u001b[0m         columns,\n\u001b[1;32m   1922\u001b[0m         col_dict,\n\u001b[0;32m-> 1923\u001b[0m     ) \u001b[38;5;241m=\u001b[39m \u001b[38;5;28;43mself\u001b[39;49m\u001b[38;5;241;43m.\u001b[39;49m\u001b[43m_engine\u001b[49m\u001b[38;5;241;43m.\u001b[39;49m\u001b[43mread\u001b[49m\u001b[43m(\u001b[49m\u001b[43m  \u001b[49m\u001b[38;5;66;43;03m# type: ignore[attr-defined]\u001b[39;49;00m\n\u001b[1;32m   1924\u001b[0m \u001b[43m        \u001b[49m\u001b[43mnrows\u001b[49m\n\u001b[1;32m   1925\u001b[0m \u001b[43m    \u001b[49m\u001b[43m)\u001b[49m\n\u001b[1;32m   1926\u001b[0m \u001b[38;5;28;01mexcept\u001b[39;00m \u001b[38;5;167;01mException\u001b[39;00m:\n\u001b[1;32m   1927\u001b[0m     \u001b[38;5;28mself\u001b[39m\u001b[38;5;241m.\u001b[39mclose()\n",
      "File \u001b[0;32m~/miniconda3/envs/my/lib/python3.10/site-packages/pandas/io/parsers/c_parser_wrapper.py:234\u001b[0m, in \u001b[0;36mCParserWrapper.read\u001b[0;34m(self, nrows)\u001b[0m\n\u001b[1;32m    232\u001b[0m \u001b[38;5;28;01mtry\u001b[39;00m:\n\u001b[1;32m    233\u001b[0m     \u001b[38;5;28;01mif\u001b[39;00m \u001b[38;5;28mself\u001b[39m\u001b[38;5;241m.\u001b[39mlow_memory:\n\u001b[0;32m--> 234\u001b[0m         chunks \u001b[38;5;241m=\u001b[39m \u001b[38;5;28;43mself\u001b[39;49m\u001b[38;5;241;43m.\u001b[39;49m\u001b[43m_reader\u001b[49m\u001b[38;5;241;43m.\u001b[39;49m\u001b[43mread_low_memory\u001b[49m\u001b[43m(\u001b[49m\u001b[43mnrows\u001b[49m\u001b[43m)\u001b[49m\n\u001b[1;32m    235\u001b[0m         \u001b[38;5;66;03m# destructive to chunks\u001b[39;00m\n\u001b[1;32m    236\u001b[0m         data \u001b[38;5;241m=\u001b[39m _concatenate_chunks(chunks)\n",
      "File \u001b[0;32mparsers.pyx:838\u001b[0m, in \u001b[0;36mpandas._libs.parsers.TextReader.read_low_memory\u001b[0;34m()\u001b[0m\n",
      "File \u001b[0;32mparsers.pyx:905\u001b[0m, in \u001b[0;36mpandas._libs.parsers.TextReader._read_rows\u001b[0;34m()\u001b[0m\n",
      "File \u001b[0;32mparsers.pyx:874\u001b[0m, in \u001b[0;36mpandas._libs.parsers.TextReader._tokenize_rows\u001b[0;34m()\u001b[0m\n",
      "File \u001b[0;32mparsers.pyx:891\u001b[0m, in \u001b[0;36mpandas._libs.parsers.TextReader._check_tokenize_status\u001b[0;34m()\u001b[0m\n",
      "File \u001b[0;32mparsers.pyx:2061\u001b[0m, in \u001b[0;36mpandas._libs.parsers.raise_parser_error\u001b[0;34m()\u001b[0m\n",
      "\u001b[0;31mParserError\u001b[0m: Error tokenizing data. C error: Calling read(nbytes) on source failed. Try engine='python'."
     ]
    }
   ],
   "source": [
    "df = pd.read_csv('save/grid_data_f_2.csv')\n",
    "print(df.dtypes)"
   ]
  },
  {
   "cell_type": "markdown",
   "metadata": {},
   "source": [
    "风险扩散"
   ]
  },
  {
   "cell_type": "code",
   "execution_count": 5,
   "metadata": {},
   "outputs": [
    {
     "name": "stdout",
     "output_type": "stream",
     "text": [
      "处理完成，结果已保存到 processed_grid_data.csv\n"
     ]
    }
   ],
   "source": [
    "import pandas as pd\n",
    "import numpy as np\n",
    "\n",
    "# 读取数据并排序\n",
    "df = pd.read_csv('save/grid_data_c_2.csv')\n",
    "df.sort_values(['grid_id', 'time_slot'], inplace=True)\n",
    "\n",
    "# 创建原始风险值的副本以避免修改原数据\n",
    "df['original_risk'] = df['risk_value'].copy()\n",
    "\n",
    "# 按网格ID分组处理\n",
    "for grid_id, group in df.groupby('grid_id'):\n",
    "    indices = group.index  # 获取当前组的索引\n",
    "    original_risk = group['original_risk'].values  # 原始风险值数组\n",
    "    n = len(original_risk)\n",
    "    delta = np.zeros(n)  # 初始化影响值数组\n",
    "    \n",
    "    # 遍历每个时间点计算扩散影响\n",
    "    for i in range(n):\n",
    "        v = original_risk[i]\n",
    "        # 扩散到前两个时间点（t-1和t-2）\n",
    "        if i - 1 >= 0:\n",
    "            delta[i-1] += v * 0.5\n",
    "        if i - 2 >= 0:\n",
    "            delta[i-2] += v * 0.25\n",
    "        # if i - 3 >= 0:\n",
    "        #     delta[i-3] += v * 0.4\n",
    "        # if i - 4 >= 0:\n",
    "        #     delta[i-4] += v * 0.2\n",
    "\n",
    "\n",
    "        # 扩散到后两个时间点（t+1和t+2）\n",
    "        # if i + 1 < n:\n",
    "        #     delta[i+1] += v * 0.5\n",
    "        # if i + 2 < n:\n",
    "        #     delta[i+2] += v * 0.25\n",
    "        # if i + 3 < n:\n",
    "        #     delta[i+1] += v * 0.4\n",
    "        # if i + 4 < n:\n",
    "        #     delta[i+2] += v * 0.2\n",
    "    \n",
    "    # 将影响值加到当前网格的风险值列\n",
    "    df.loc[indices, 'risk_value'] += delta\n",
    "\n",
    "# 删除临时列并保存结果\n",
    "df.drop('original_risk', axis=1, inplace=True)\n",
    "\n",
    "df.to_csv('save/grid_data_c_6.csv', index=False)\n",
    "\n",
    "print(\"处理完成，结果已保存到 processed_grid_data.csv\")"
   ]
  },
  {
   "cell_type": "code",
   "execution_count": 6,
   "metadata": {},
   "outputs": [
    {
     "name": "stdout",
     "output_type": "stream",
     "text": [
      "处理完成，结果已保存到 processed_grid_data.csv\n"
     ]
    }
   ],
   "source": [
    "import pandas as pd\n",
    "import numpy as np\n",
    "\n",
    "# 读取数据并排序\n",
    "df = pd.read_csv('save/grid_data_f_2.csv')\n",
    "df.sort_values(['grid_id', 'time_slot'], inplace=True)\n",
    "\n",
    "# 创建原始风险值的副本以避免修改原数据\n",
    "df['original_risk'] = df['risk_value'].copy()\n",
    "\n",
    "# 按网格ID分组处理\n",
    "for grid_id, group in df.groupby('grid_id'):\n",
    "    indices = group.index  # 获取当前组的索引\n",
    "    original_risk = group['original_risk'].values  # 原始风险值数组\n",
    "    n = len(original_risk)\n",
    "    delta = np.zeros(n)  # 初始化影响值数组\n",
    "    \n",
    "    # 遍历每个时间点计算扩散影响\n",
    "    for i in range(n):\n",
    "        v = original_risk[i]\n",
    "        # 扩散到前两个时间点（t-1和t-2）\n",
    "        if i - 1 >= 0:\n",
    "            delta[i-1] += v * 0.5\n",
    "        if i - 2 >= 0:\n",
    "            delta[i-2] += v * 0.25\n",
    "        # if i - 3 >= 0:\n",
    "        #     delta[i-3] += v * 0.4\n",
    "        # if i - 4 >= 0:\n",
    "        #     delta[i-4] += v * 0.2\n",
    "\n",
    "\n",
    "        # 扩散到后两个时间点（t+1和t+2）\n",
    "        # if i + 1 < n:\n",
    "        #     delta[i+1] += v * 0.5\n",
    "        # if i + 2 < n:\n",
    "        #     delta[i+2] += v * 0.25\n",
    "        # if i + 3 < n:\n",
    "        #     delta[i+1] += v * 0.4\n",
    "        # if i + 4 < n:\n",
    "        #     delta[i+2] += v * 0.2\n",
    "    # 将影响值加到当前网格的风险值列\n",
    "    df.loc[indices, 'risk_value'] += delta\n",
    "\n",
    "# 删除临时列并保存结果\n",
    "df.drop('original_risk', axis=1, inplace=True)\n",
    "df.to_csv('save/grid_data_f_6.csv', index=False)\n",
    "\n",
    "print(\"处理完成，结果已保存到 processed_grid_data.csv\")"
   ]
  }
 ],
 "metadata": {
  "kernelspec": {
   "display_name": "my",
   "language": "python",
   "name": "python3"
  },
  "language_info": {
   "codemirror_mode": {
    "name": "ipython",
    "version": 3
   },
   "file_extension": ".py",
   "mimetype": "text/x-python",
   "name": "python",
   "nbconvert_exporter": "python",
   "pygments_lexer": "ipython3",
   "version": "3.10.16"
  }
 },
 "nbformat": 4,
 "nbformat_minor": 2
}
