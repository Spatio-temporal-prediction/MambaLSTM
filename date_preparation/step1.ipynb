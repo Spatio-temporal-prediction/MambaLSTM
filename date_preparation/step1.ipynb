{
 "cells": [
  {
   "cell_type": "code",
   "execution_count": 2,
   "metadata": {},
   "outputs": [],
   "source": [
    "# =============================================================================\n",
    "# 第一部分：基础库导入\n",
    "# =============================================================================\n",
    "import geopandas as gpd\n",
    "from shapely.geometry import MultiPolygon, Polygon, box\n",
    "import matplotlib.pyplot as plt\n",
    "import pandas as pd\n",
    "import numpy as np\n",
    "\n",
    "# =============================================================================\n",
    "# 第二部分：数据加载与预处理\n",
    "# =============================================================================\n",
    "def load_data():\n",
    "    \"\"\"加载数据函数\"\"\"\n",
    "    # 加载纽约市边界和道路数据\n",
    "    nyc_boundary = gpd.read_file(r'dataset/nyc_boundary.shp')\n",
    "    nyc_roads = gpd.read_file(r'dataset/nyc_roads.geojson')\n",
    "    \n",
    "    # 将道路数据转换为多边形（用于后续裁剪）\n",
    "    nyc_roads['geometry'] = nyc_roads.geometry.buffer(0.00005)\n",
    "    \n",
    "    # 获取纽约市边界范围\n",
    "    bounds = nyc_boundary.total_bounds\n",
    "    x_min, y_min, x_max, y_max = bounds\n",
    "    return nyc_boundary, nyc_roads, (x_min, y_min, x_max, y_max)\n",
    "\n",
    "# =============================================================================\n",
    "# 第三部分：网格生成函数\n",
    "# =============================================================================\n",
    "def generate_grids(bounds, grid_size, road_data):\n",
    "    \"\"\"\n",
    "    通用网格生成函数\n",
    "    参数:\n",
    "        bounds: 边界坐标 (x_min, y_min, x_max, y_max)\n",
    "        grid_size: 网格划分粒度 (nx, ny)\n",
    "        road_data: 用于裁剪的道路数据\n",
    "    返回:\n",
    "        包含有效网格的GeoDataFrame\n",
    "    \"\"\"\n",
    "    nx, ny = grid_size\n",
    "    cells = []\n",
    "    x_min, y_min, x_max, y_max = bounds\n",
    "    \n",
    "    # 生成基础网格\n",
    "    for ix in range(nx):\n",
    "        x_step = (x_max - x_min) / nx\n",
    "        x1 = x_min + ix * x_step\n",
    "        x2 = x1 + x_step\n",
    "        for iy in range(ny):\n",
    "            y_step = (y_max - y_min) / ny\n",
    "            y1 = y_min + iy * y_step\n",
    "            y2 = y1 + y_step\n",
    "            cells.append(box(x1, y1, x2, y2))\n",
    "    \n",
    "    # 创建GeoDataFrame并进行道路裁剪\n",
    "    grid_gdf = gpd.GeoDataFrame(geometry=cells, crs=road_data.crs)\n",
    "    return gpd.clip(grid_gdf, road_data).reset_index(drop=True)\n",
    "\n",
    "# =============================================================================\n",
    "# 第五部分：网格数据存储\n",
    "# =============================================================================\n",
    "def save_grid_data(grid_gdf, prefix):\n",
    "    \"\"\"网格数据存储函数\"\"\"\n",
    "    data = [{\n",
    "        \"grid_id\": idx,\n",
    "        \"Longitude Range\": (row.geometry.bounds[0], row.geometry.bounds[2]),\n",
    "        \"Latitude Range\": (row.geometry.bounds[1], row.geometry.bounds[3])\n",
    "    } for idx, row in grid_gdf.iterrows()]\n",
    "    \n",
    "    pd.DataFrame(data).to_csv(f'save/NYC_grid_{prefix}.csv', index=False)\n",
    "\n",
    "# =============================================================================\n",
    "# 第六部分：道路数据分析\n",
    "# =============================================================================\n",
    "def analyze_road_conditions(grid_gdf, road_data, grid_type):\n",
    "    \"\"\"\n",
    "    道路状况分析函数\n",
    "    参数:\n",
    "        grid_gdf: 网格数据\n",
    "        road_data: 道路评分数据\n",
    "        grid_type: 网格类型标识 ('c'/'f'/'uf')\n",
    "    \"\"\"\n",
    "    # 预处理道路数据\n",
    "    roads = road_data.copy()\n",
    "    roads['geometry'] = gpd.GeoSeries.from_wkt(roads['the_geom'])\n",
    "    roads = gpd.GeoDataFrame(roads, geometry='geometry').drop_duplicates('SegmentID')\n",
    "    \n",
    "    results = []\n",
    "    for _, grid_row in grid_gdf.iterrows():\n",
    "        grid_poly = grid_row.geometry\n",
    "        \n",
    "        # 空间查询\n",
    "        roads_in_grid = gpd.clip(roads, grid_poly)\n",
    "        \n",
    "        # 指标计算\n",
    "        stats = {\n",
    "            'grid_id': grid_row.name,\n",
    "            'road_density': 0,\n",
    "            'rating_min': 0,\n",
    "            'rating_max': 0,\n",
    "            'rating_mean': 0,\n",
    "            'rating_median': 0\n",
    "        }\n",
    "        \n",
    "        if not roads_in_grid.empty:\n",
    "            total_length = roads_in_grid.geometry.length.sum()\n",
    "            grid_area = grid_poly.area\n",
    "            stats.update({\n",
    "                'road_density': total_length / grid_area,\n",
    "                'rating_min': roads_in_grid['ManualRati'].min(),\n",
    "                'rating_max': roads_in_grid['ManualRati'].max(),\n",
    "                'rating_mean': roads_in_grid['ManualRati'].mean(),\n",
    "                'rating_median': roads_in_grid['ManualRati'].median()\n",
    "            })\n",
    "        \n",
    "        results.append(stats)\n",
    "    \n",
    "    # 保存结果\n",
    "    pd.DataFrame(results).to_csv(f'save/grid_road_{grid_type}.csv', index=False)\n"
   ]
  },
  {
   "cell_type": "code",
   "execution_count": 3,
   "metadata": {},
   "outputs": [
    {
     "name": "stderr",
     "output_type": "stream",
     "text": [
      "/tmp/ipykernel_35453/1668130222.py:20: UserWarning: Geometry is in a geographic CRS. Results from 'buffer' are likely incorrect. Use 'GeoSeries.to_crs()' to re-project geometries to a projected CRS before this operation.\n",
      "\n",
      "  nyc_roads['geometry'] = nyc_roads.geometry.buffer(0.00005)\n"
     ]
    },
    {
     "name": "stdout",
     "output_type": "stream",
     "text": [
      "粗网格生成完成\n",
      "[系统消息] 网格处理完成：\n",
      "粗粒度(10x10): 65个\n",
      "\n"
     ]
    }
   ],
   "source": [
    "# =============================================================================\n",
    "# 调用部分\n",
    "# =============================================================================\n",
    "# 加载数据\n",
    "nyc_boundary, nyc_roads, bounds = load_data()\n",
    "\n",
    "# 生成三种粒度网格\n",
    "grid_coarse = generate_grids(bounds, (10, 10), nyc_roads)\n",
    "print('粗网格生成完成')\n",
    "print(f\"[系统消息] 网格处理完成：\\n\"\n",
    "      f\"粗粒度(10x10): {len(grid_coarse)}个\\n\")\n"
   ]
  },
  {
   "cell_type": "code",
   "execution_count": 4,
   "metadata": {},
   "outputs": [],
   "source": [
    "# grid_fine = generate_grids(bounds, (20, 20), nyc_roads)\n",
    "# print('细网格生成完成')\n",
    "# print(f\"[系统消息] 网格处理完成：\\n\"\n",
    "#       f\"粗粒度(20x20): {len(grid_fine)}个\\n\")"
   ]
  },
  {
   "cell_type": "code",
   "execution_count": 5,
   "metadata": {},
   "outputs": [],
   "source": [
    "# grid_ultrafine = generate_grids(bounds, (40, 40), nyc_roads)\n",
    "# print('超细网格生成完成')\n",
    "# print(f\"[系统消息] 网格处理完成：\\n\"\n",
    "#       f\"超细粒度(40x40): {len(grid_ultrafine)}个\")"
   ]
  },
  {
   "cell_type": "code",
   "execution_count": 6,
   "metadata": {},
   "outputs": [],
   "source": [
    "# print(f\"[系统消息] 网格处理完成：\\n\"\n",
    "#       f\"粗粒度(10x10): {len(grid_coarse)}个\\n\"\n",
    "#       f\"粗粒度(20x20): {len(grid_fine)}个\\n\"\n",
    "#       f\"超细粒度(40x40): {len(grid_ultrafine)}个\")"
   ]
  },
  {
   "cell_type": "code",
   "execution_count": 7,
   "metadata": {},
   "outputs": [],
   "source": [
    "# 保存三种网格数据\n",
    "save_grid_data(grid_coarse, 'c')      # 10x10\n",
    "# save_grid_data(grid_fine, 'f')        # 20x20\n",
    "# save_grid_data(grid_ultrafine, 'uf')  # 30x30"
   ]
  },
  {
   "cell_type": "code",
   "execution_count": 8,
   "metadata": {},
   "outputs": [
    {
     "name": "stderr",
     "output_type": "stream",
     "text": [
      "/tmp/ipykernel_35453/823013093.py:2: DtypeWarning: Columns (3) have mixed types. Specify dtype option on import or set low_memory=False.\n",
      "  road_rating = pd.read_csv(r'dataset/Street_Pavement_Rating.csv')\n"
     ]
    }
   ],
   "source": [
    "# 加载道路评分数据\n",
    "road_rating = pd.read_csv(r'dataset/Street_Pavement_Rating.csv')\n",
    "\n",
    "# 执行道路分析\n",
    "analyze_road_conditions(grid_coarse, road_rating, 'c')     # 10x10\n",
    "# analyze_road_conditions(grid_fine, road_rating, 'f')       # 20x20\n",
    "# analyze_road_conditions(grid_ultrafine, road_rating, 'uf') # 30x30"
   ]
  }
 ],
 "metadata": {
  "kernelspec": {
   "display_name": "my",
   "language": "python",
   "name": "python3"
  },
  "language_info": {
   "codemirror_mode": {
    "name": "ipython",
    "version": 3
   },
   "file_extension": ".py",
   "mimetype": "text/x-python",
   "name": "python",
   "nbconvert_exporter": "python",
   "pygments_lexer": "ipython3",
   "version": "3.10.16"
  }
 },
 "nbformat": 4,
 "nbformat_minor": 2
}
